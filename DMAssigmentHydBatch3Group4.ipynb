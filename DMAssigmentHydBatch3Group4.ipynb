{
 "cells": [
  {
   "cell_type": "markdown",
   "metadata": {},
   "source": [
    "# BITS WILP MTECH DATA SCIENCE \n",
    "# Data Mining Assignment Hyd Group 4\n",
    "# Hyderabad Section: A, Batch 3  \n"
   ]
  },
  {
   "cell_type": "code",
   "execution_count": 35,
   "metadata": {},
   "outputs": [],
   "source": [
    "import pandas as pd\n",
    "import numpy as np\n",
    "import matplotlib as mpl\n",
    "import matplotlib.pyplot as plt\n",
    "import seaborn as sns\n",
    "\n",
    "# To model the Gaussian Navie Bayes classifier\n",
    "from sklearn.naive_bayes import GaussianNB\n",
    "\n",
    "import sklearn.linear_model as skl_lm\n",
    "from sklearn.svm import SVC, LinearSVC\n",
    "\n",
    "from sklearn.model_selection import train_test_split\n",
    "from sklearn.metrics import confusion_matrix, classification_report, precision_score\n",
    "from sklearn import preprocessing\n",
    "from sklearn import neighbors\n",
    "\n",
    "# To calculate the accuracy score of the model\n",
    "from sklearn.metrics import accuracy_score\n",
    "\n",
    "\n",
    "import sklearn.linear_model as skl_lm\n",
    "from sklearn.linear_model import LogisticRegression\n",
    "from sklearn.neighbors import KNeighborsClassifier\n",
    "from sklearn import svm\n",
    "\n",
    "# calculate accuracy measures and confusion matrix\n",
    "from sklearn import metrics\n",
    "\n",
    "# Pairplot using sns\n",
    "import seaborn as sns\n",
    "import warnings\n",
    "\n",
    "warnings.filterwarnings(\"ignore\")\n",
    "%matplotlib inline"
   ]
  },
  {
   "cell_type": "code",
   "execution_count": 36,
   "metadata": {},
   "outputs": [],
   "source": [
    "fileName = \"ISP_One_Attrition_Data_file.csv\"\n",
    "df = pd.read_csv(fileName)"
   ]
  },
  {
   "cell_type": "code",
   "execution_count": 37,
   "metadata": {},
   "outputs": [
    {
     "data": {
      "text/html": [
       "<div>\n",
       "<style scoped>\n",
       "    .dataframe tbody tr th:only-of-type {\n",
       "        vertical-align: middle;\n",
       "    }\n",
       "\n",
       "    .dataframe tbody tr th {\n",
       "        vertical-align: top;\n",
       "    }\n",
       "\n",
       "    .dataframe thead th {\n",
       "        text-align: right;\n",
       "    }\n",
       "</style>\n",
       "<table border=\"1\" class=\"dataframe\">\n",
       "  <thead>\n",
       "    <tr style=\"text-align: right;\">\n",
       "      <th></th>\n",
       "      <th>active_cust</th>\n",
       "      <th>income</th>\n",
       "      <th>expenditure</th>\n",
       "      <th>months_on_network</th>\n",
       "      <th>Num_complaints</th>\n",
       "      <th>number_plan_changes</th>\n",
       "      <th>relocated</th>\n",
       "      <th>monthly_bill</th>\n",
       "      <th>technical_issues_per_month</th>\n",
       "      <th>Speed_test_result</th>\n",
       "    </tr>\n",
       "  </thead>\n",
       "  <tbody>\n",
       "    <tr>\n",
       "      <th>0</th>\n",
       "      <td>0</td>\n",
       "      <td>1586</td>\n",
       "      <td>1268.8</td>\n",
       "      <td>85</td>\n",
       "      <td>4</td>\n",
       "      <td>1</td>\n",
       "      <td>0</td>\n",
       "      <td>121</td>\n",
       "      <td>4</td>\n",
       "      <td>85</td>\n",
       "    </tr>\n",
       "    <tr>\n",
       "      <th>1</th>\n",
       "      <td>0</td>\n",
       "      <td>1581</td>\n",
       "      <td>1264.8</td>\n",
       "      <td>85</td>\n",
       "      <td>4</td>\n",
       "      <td>1</td>\n",
       "      <td>0</td>\n",
       "      <td>133</td>\n",
       "      <td>4</td>\n",
       "      <td>85</td>\n",
       "    </tr>\n",
       "    <tr>\n",
       "      <th>2</th>\n",
       "      <td>0</td>\n",
       "      <td>1594</td>\n",
       "      <td>1275.2</td>\n",
       "      <td>82</td>\n",
       "      <td>4</td>\n",
       "      <td>1</td>\n",
       "      <td>0</td>\n",
       "      <td>118</td>\n",
       "      <td>4</td>\n",
       "      <td>85</td>\n",
       "    </tr>\n",
       "    <tr>\n",
       "      <th>3</th>\n",
       "      <td>0</td>\n",
       "      <td>1594</td>\n",
       "      <td>1275.2</td>\n",
       "      <td>82</td>\n",
       "      <td>4</td>\n",
       "      <td>1</td>\n",
       "      <td>0</td>\n",
       "      <td>123</td>\n",
       "      <td>4</td>\n",
       "      <td>85</td>\n",
       "    </tr>\n",
       "    <tr>\n",
       "      <th>4</th>\n",
       "      <td>1</td>\n",
       "      <td>1609</td>\n",
       "      <td>1287.2</td>\n",
       "      <td>80</td>\n",
       "      <td>4</td>\n",
       "      <td>1</td>\n",
       "      <td>0</td>\n",
       "      <td>177</td>\n",
       "      <td>4</td>\n",
       "      <td>85</td>\n",
       "    </tr>\n",
       "    <tr>\n",
       "      <th>5</th>\n",
       "      <td>1</td>\n",
       "      <td>1601</td>\n",
       "      <td>1280.8</td>\n",
       "      <td>80</td>\n",
       "      <td>4</td>\n",
       "      <td>1</td>\n",
       "      <td>0</td>\n",
       "      <td>31</td>\n",
       "      <td>4</td>\n",
       "      <td>85</td>\n",
       "    </tr>\n",
       "    <tr>\n",
       "      <th>6</th>\n",
       "      <td>1</td>\n",
       "      <td>1598</td>\n",
       "      <td>1278.4</td>\n",
       "      <td>81</td>\n",
       "      <td>4</td>\n",
       "      <td>1</td>\n",
       "      <td>0</td>\n",
       "      <td>126</td>\n",
       "      <td>4</td>\n",
       "      <td>85</td>\n",
       "    </tr>\n",
       "    <tr>\n",
       "      <th>7</th>\n",
       "      <td>1</td>\n",
       "      <td>1597</td>\n",
       "      <td>1277.6</td>\n",
       "      <td>81</td>\n",
       "      <td>4</td>\n",
       "      <td>1</td>\n",
       "      <td>0</td>\n",
       "      <td>30</td>\n",
       "      <td>4</td>\n",
       "      <td>85</td>\n",
       "    </tr>\n",
       "    <tr>\n",
       "      <th>8</th>\n",
       "      <td>1</td>\n",
       "      <td>1604</td>\n",
       "      <td>1283.2</td>\n",
       "      <td>81</td>\n",
       "      <td>4</td>\n",
       "      <td>1</td>\n",
       "      <td>0</td>\n",
       "      <td>49</td>\n",
       "      <td>4</td>\n",
       "      <td>85</td>\n",
       "    </tr>\n",
       "    <tr>\n",
       "      <th>9</th>\n",
       "      <td>1</td>\n",
       "      <td>1605</td>\n",
       "      <td>1284.0</td>\n",
       "      <td>81</td>\n",
       "      <td>4</td>\n",
       "      <td>1</td>\n",
       "      <td>0</td>\n",
       "      <td>35</td>\n",
       "      <td>4</td>\n",
       "      <td>85</td>\n",
       "    </tr>\n",
       "  </tbody>\n",
       "</table>\n",
       "</div>"
      ],
      "text/plain": [
       "   active_cust  income  expenditure  months_on_network  Num_complaints  \\\n",
       "0            0    1586       1268.8                 85               4   \n",
       "1            0    1581       1264.8                 85               4   \n",
       "2            0    1594       1275.2                 82               4   \n",
       "3            0    1594       1275.2                 82               4   \n",
       "4            1    1609       1287.2                 80               4   \n",
       "5            1    1601       1280.8                 80               4   \n",
       "6            1    1598       1278.4                 81               4   \n",
       "7            1    1597       1277.6                 81               4   \n",
       "8            1    1604       1283.2                 81               4   \n",
       "9            1    1605       1284.0                 81               4   \n",
       "\n",
       "   number_plan_changes  relocated  monthly_bill  technical_issues_per_month  \\\n",
       "0                    1          0           121                           4   \n",
       "1                    1          0           133                           4   \n",
       "2                    1          0           118                           4   \n",
       "3                    1          0           123                           4   \n",
       "4                    1          0           177                           4   \n",
       "5                    1          0            31                           4   \n",
       "6                    1          0           126                           4   \n",
       "7                    1          0            30                           4   \n",
       "8                    1          0            49                           4   \n",
       "9                    1          0            35                           4   \n",
       "\n",
       "   Speed_test_result  \n",
       "0                 85  \n",
       "1                 85  \n",
       "2                 85  \n",
       "3                 85  \n",
       "4                 85  \n",
       "5                 85  \n",
       "6                 85  \n",
       "7                 85  \n",
       "8                 85  \n",
       "9                 85  "
      ]
     },
     "execution_count": 37,
     "metadata": {},
     "output_type": "execute_result"
    }
   ],
   "source": [
    "df.head(10)"
   ]
  },
  {
   "cell_type": "code",
   "execution_count": 38,
   "metadata": {},
   "outputs": [
    {
     "data": {
      "text/plain": [
       "(100000, 10)"
      ]
     },
     "execution_count": 38,
     "metadata": {},
     "output_type": "execute_result"
    }
   ],
   "source": [
    "df.shape"
   ]
  },
  {
   "cell_type": "markdown",
   "metadata": {},
   "source": [
    "# Total Features given in the dataset is 10."
   ]
  },
  {
   "cell_type": "code",
   "execution_count": 39,
   "metadata": {},
   "outputs": [
    {
     "name": "stdout",
     "output_type": "stream",
     "text": [
      "active_cust\n",
      "income\n",
      "expenditure\n",
      "months_on_network\n",
      "Num_complaints\n",
      "number_plan_changes\n",
      "relocated\n",
      "monthly_bill\n",
      "technical_issues_per_month\n",
      "Speed_test_result\n"
     ]
    }
   ],
   "source": [
    "for col in df.columns: \n",
    "    print(col) "
   ]
  },
  {
   "cell_type": "markdown",
   "metadata": {},
   "source": [
    "## active_cust : determines which customer stayed and which one left\n",
    "## This is the target variable \n",
    "## we train the models using Supervised Learning and predict the churn."
   ]
  },
  {
   "cell_type": "code",
   "execution_count": 40,
   "metadata": {},
   "outputs": [
    {
     "data": {
      "text/plain": [
       "active_cust                     int64\n",
       "income                          int64\n",
       "expenditure                   float64\n",
       "months_on_network               int64\n",
       "Num_complaints                  int64\n",
       "number_plan_changes             int64\n",
       "relocated                       int64\n",
       "monthly_bill                    int64\n",
       "technical_issues_per_month      int64\n",
       "Speed_test_result               int64\n",
       "dtype: object"
      ]
     },
     "execution_count": 40,
     "metadata": {},
     "output_type": "execute_result"
    }
   ],
   "source": [
    "df.dtypes"
   ]
  },
  {
   "cell_type": "markdown",
   "metadata": {},
   "source": [
    "# ALL features are numeric. We dont have any categorical data."
   ]
  },
  {
   "cell_type": "code",
   "execution_count": 41,
   "metadata": {},
   "outputs": [
    {
     "data": {
      "text/plain": [
       "active_cust                   100000\n",
       "income                        100000\n",
       "expenditure                   100000\n",
       "months_on_network             100000\n",
       "Num_complaints                100000\n",
       "number_plan_changes           100000\n",
       "relocated                     100000\n",
       "monthly_bill                  100000\n",
       "technical_issues_per_month    100000\n",
       "Speed_test_result             100000\n",
       "dtype: int64"
      ]
     },
     "execution_count": 41,
     "metadata": {},
     "output_type": "execute_result"
    }
   ],
   "source": [
    "# using notnull() function  \n",
    "df.notnull().sum()"
   ]
  },
  {
   "cell_type": "code",
   "execution_count": 42,
   "metadata": {},
   "outputs": [
    {
     "data": {
      "text/plain": [
       "False"
      ]
     },
     "execution_count": 42,
     "metadata": {},
     "output_type": "execute_result"
    }
   ],
   "source": [
    "# Check for missing values\n",
    "df.isnull().values.any()"
   ]
  },
  {
   "cell_type": "markdown",
   "metadata": {},
   "source": [
    "# All the values are not null."
   ]
  },
  {
   "cell_type": "code",
   "execution_count": 43,
   "metadata": {},
   "outputs": [
    {
     "data": {
      "text/html": [
       "<div>\n",
       "<style scoped>\n",
       "    .dataframe tbody tr th:only-of-type {\n",
       "        vertical-align: middle;\n",
       "    }\n",
       "\n",
       "    .dataframe tbody tr th {\n",
       "        vertical-align: top;\n",
       "    }\n",
       "\n",
       "    .dataframe thead th {\n",
       "        text-align: right;\n",
       "    }\n",
       "</style>\n",
       "<table border=\"1\" class=\"dataframe\">\n",
       "  <thead>\n",
       "    <tr style=\"text-align: right;\">\n",
       "      <th></th>\n",
       "      <th>active_cust</th>\n",
       "      <th>income</th>\n",
       "      <th>expenditure</th>\n",
       "      <th>months_on_network</th>\n",
       "      <th>Num_complaints</th>\n",
       "      <th>number_plan_changes</th>\n",
       "      <th>relocated</th>\n",
       "      <th>monthly_bill</th>\n",
       "      <th>technical_issues_per_month</th>\n",
       "      <th>Speed_test_result</th>\n",
       "    </tr>\n",
       "  </thead>\n",
       "  <tbody>\n",
       "    <tr>\n",
       "      <th>count</th>\n",
       "      <td>100000.000000</td>\n",
       "      <td>100000.000000</td>\n",
       "      <td>100000.000000</td>\n",
       "      <td>100000.000000</td>\n",
       "      <td>100000.000000</td>\n",
       "      <td>100000.000000</td>\n",
       "      <td>100000.000000</td>\n",
       "      <td>100000.000000</td>\n",
       "      <td>100000.00000</td>\n",
       "      <td>100000.000000</td>\n",
       "    </tr>\n",
       "    <tr>\n",
       "      <th>mean</th>\n",
       "      <td>0.578590</td>\n",
       "      <td>1855.279910</td>\n",
       "      <td>1409.669662</td>\n",
       "      <td>58.402450</td>\n",
       "      <td>4.012840</td>\n",
       "      <td>1.385410</td>\n",
       "      <td>0.123480</td>\n",
       "      <td>95.816450</td>\n",
       "      <td>3.31673</td>\n",
       "      <td>81.668540</td>\n",
       "    </tr>\n",
       "    <tr>\n",
       "      <th>std</th>\n",
       "      <td>0.493787</td>\n",
       "      <td>2712.385257</td>\n",
       "      <td>2174.330870</td>\n",
       "      <td>18.643736</td>\n",
       "      <td>0.285265</td>\n",
       "      <td>1.617101</td>\n",
       "      <td>0.328989</td>\n",
       "      <td>50.161327</td>\n",
       "      <td>1.24147</td>\n",
       "      <td>9.952554</td>\n",
       "    </tr>\n",
       "    <tr>\n",
       "      <th>min</th>\n",
       "      <td>0.000000</td>\n",
       "      <td>1130.000000</td>\n",
       "      <td>904.000000</td>\n",
       "      <td>-20.000000</td>\n",
       "      <td>3.000000</td>\n",
       "      <td>0.000000</td>\n",
       "      <td>0.000000</td>\n",
       "      <td>30.000000</td>\n",
       "      <td>1.00000</td>\n",
       "      <td>72.000000</td>\n",
       "    </tr>\n",
       "    <tr>\n",
       "      <th>25%</th>\n",
       "      <td>0.000000</td>\n",
       "      <td>1674.000000</td>\n",
       "      <td>1248.650000</td>\n",
       "      <td>47.000000</td>\n",
       "      <td>4.000000</td>\n",
       "      <td>0.000000</td>\n",
       "      <td>0.000000</td>\n",
       "      <td>45.000000</td>\n",
       "      <td>3.00000</td>\n",
       "      <td>78.000000</td>\n",
       "    </tr>\n",
       "    <tr>\n",
       "      <th>50%</th>\n",
       "      <td>1.000000</td>\n",
       "      <td>1805.000000</td>\n",
       "      <td>1358.400000</td>\n",
       "      <td>56.000000</td>\n",
       "      <td>4.000000</td>\n",
       "      <td>1.000000</td>\n",
       "      <td>0.000000</td>\n",
       "      <td>87.000000</td>\n",
       "      <td>4.00000</td>\n",
       "      <td>81.000000</td>\n",
       "    </tr>\n",
       "    <tr>\n",
       "      <th>75%</th>\n",
       "      <td>1.000000</td>\n",
       "      <td>1907.000000</td>\n",
       "      <td>1494.400000</td>\n",
       "      <td>70.000000</td>\n",
       "      <td>4.000000</td>\n",
       "      <td>2.000000</td>\n",
       "      <td>0.000000</td>\n",
       "      <td>133.000000</td>\n",
       "      <td>4.00000</td>\n",
       "      <td>85.000000</td>\n",
       "    </tr>\n",
       "    <tr>\n",
       "      <th>max</th>\n",
       "      <td>1.000000</td>\n",
       "      <td>229821.000000</td>\n",
       "      <td>183856.800000</td>\n",
       "      <td>449.000000</td>\n",
       "      <td>6.000000</td>\n",
       "      <td>9.000000</td>\n",
       "      <td>1.000000</td>\n",
       "      <td>181.000000</td>\n",
       "      <td>7.00000</td>\n",
       "      <td>332.000000</td>\n",
       "    </tr>\n",
       "  </tbody>\n",
       "</table>\n",
       "</div>"
      ],
      "text/plain": [
       "         active_cust         income    expenditure  months_on_network  \\\n",
       "count  100000.000000  100000.000000  100000.000000      100000.000000   \n",
       "mean        0.578590    1855.279910    1409.669662          58.402450   \n",
       "std         0.493787    2712.385257    2174.330870          18.643736   \n",
       "min         0.000000    1130.000000     904.000000         -20.000000   \n",
       "25%         0.000000    1674.000000    1248.650000          47.000000   \n",
       "50%         1.000000    1805.000000    1358.400000          56.000000   \n",
       "75%         1.000000    1907.000000    1494.400000          70.000000   \n",
       "max         1.000000  229821.000000  183856.800000         449.000000   \n",
       "\n",
       "       Num_complaints  number_plan_changes      relocated   monthly_bill  \\\n",
       "count   100000.000000        100000.000000  100000.000000  100000.000000   \n",
       "mean         4.012840             1.385410       0.123480      95.816450   \n",
       "std          0.285265             1.617101       0.328989      50.161327   \n",
       "min          3.000000             0.000000       0.000000      30.000000   \n",
       "25%          4.000000             0.000000       0.000000      45.000000   \n",
       "50%          4.000000             1.000000       0.000000      87.000000   \n",
       "75%          4.000000             2.000000       0.000000     133.000000   \n",
       "max          6.000000             9.000000       1.000000     181.000000   \n",
       "\n",
       "       technical_issues_per_month  Speed_test_result  \n",
       "count                100000.00000      100000.000000  \n",
       "mean                      3.31673          81.668540  \n",
       "std                       1.24147           9.952554  \n",
       "min                       1.00000          72.000000  \n",
       "25%                       3.00000          78.000000  \n",
       "50%                       4.00000          81.000000  \n",
       "75%                       4.00000          85.000000  \n",
       "max                       7.00000         332.000000  "
      ]
     },
     "execution_count": 43,
     "metadata": {},
     "output_type": "execute_result"
    }
   ],
   "source": [
    "df.describe()"
   ]
  },
  {
   "cell_type": "code",
   "execution_count": 44,
   "metadata": {},
   "outputs": [
    {
     "data": {
      "text/html": [
       "<div>\n",
       "<style scoped>\n",
       "    .dataframe tbody tr th:only-of-type {\n",
       "        vertical-align: middle;\n",
       "    }\n",
       "\n",
       "    .dataframe tbody tr th {\n",
       "        vertical-align: top;\n",
       "    }\n",
       "\n",
       "    .dataframe thead th {\n",
       "        text-align: right;\n",
       "    }\n",
       "</style>\n",
       "<table border=\"1\" class=\"dataframe\">\n",
       "  <thead>\n",
       "    <tr style=\"text-align: right;\">\n",
       "      <th></th>\n",
       "      <th>count</th>\n",
       "      <th>mean</th>\n",
       "      <th>std</th>\n",
       "      <th>min</th>\n",
       "      <th>25%</th>\n",
       "      <th>50%</th>\n",
       "      <th>75%</th>\n",
       "      <th>max</th>\n",
       "    </tr>\n",
       "  </thead>\n",
       "  <tbody>\n",
       "    <tr>\n",
       "      <th>active_cust</th>\n",
       "      <td>100000.0</td>\n",
       "      <td>0.578590</td>\n",
       "      <td>0.493787</td>\n",
       "      <td>0.0</td>\n",
       "      <td>0.00</td>\n",
       "      <td>1.0</td>\n",
       "      <td>1.0</td>\n",
       "      <td>1.0</td>\n",
       "    </tr>\n",
       "    <tr>\n",
       "      <th>income</th>\n",
       "      <td>100000.0</td>\n",
       "      <td>1855.279910</td>\n",
       "      <td>2712.385257</td>\n",
       "      <td>1130.0</td>\n",
       "      <td>1674.00</td>\n",
       "      <td>1805.0</td>\n",
       "      <td>1907.0</td>\n",
       "      <td>229821.0</td>\n",
       "    </tr>\n",
       "    <tr>\n",
       "      <th>expenditure</th>\n",
       "      <td>100000.0</td>\n",
       "      <td>1409.669662</td>\n",
       "      <td>2174.330870</td>\n",
       "      <td>904.0</td>\n",
       "      <td>1248.65</td>\n",
       "      <td>1358.4</td>\n",
       "      <td>1494.4</td>\n",
       "      <td>183856.8</td>\n",
       "    </tr>\n",
       "    <tr>\n",
       "      <th>months_on_network</th>\n",
       "      <td>100000.0</td>\n",
       "      <td>58.402450</td>\n",
       "      <td>18.643736</td>\n",
       "      <td>-20.0</td>\n",
       "      <td>47.00</td>\n",
       "      <td>56.0</td>\n",
       "      <td>70.0</td>\n",
       "      <td>449.0</td>\n",
       "    </tr>\n",
       "    <tr>\n",
       "      <th>Num_complaints</th>\n",
       "      <td>100000.0</td>\n",
       "      <td>4.012840</td>\n",
       "      <td>0.285265</td>\n",
       "      <td>3.0</td>\n",
       "      <td>4.00</td>\n",
       "      <td>4.0</td>\n",
       "      <td>4.0</td>\n",
       "      <td>6.0</td>\n",
       "    </tr>\n",
       "    <tr>\n",
       "      <th>number_plan_changes</th>\n",
       "      <td>100000.0</td>\n",
       "      <td>1.385410</td>\n",
       "      <td>1.617101</td>\n",
       "      <td>0.0</td>\n",
       "      <td>0.00</td>\n",
       "      <td>1.0</td>\n",
       "      <td>2.0</td>\n",
       "      <td>9.0</td>\n",
       "    </tr>\n",
       "    <tr>\n",
       "      <th>relocated</th>\n",
       "      <td>100000.0</td>\n",
       "      <td>0.123480</td>\n",
       "      <td>0.328989</td>\n",
       "      <td>0.0</td>\n",
       "      <td>0.00</td>\n",
       "      <td>0.0</td>\n",
       "      <td>0.0</td>\n",
       "      <td>1.0</td>\n",
       "    </tr>\n",
       "    <tr>\n",
       "      <th>monthly_bill</th>\n",
       "      <td>100000.0</td>\n",
       "      <td>95.816450</td>\n",
       "      <td>50.161327</td>\n",
       "      <td>30.0</td>\n",
       "      <td>45.00</td>\n",
       "      <td>87.0</td>\n",
       "      <td>133.0</td>\n",
       "      <td>181.0</td>\n",
       "    </tr>\n",
       "    <tr>\n",
       "      <th>technical_issues_per_month</th>\n",
       "      <td>100000.0</td>\n",
       "      <td>3.316730</td>\n",
       "      <td>1.241470</td>\n",
       "      <td>1.0</td>\n",
       "      <td>3.00</td>\n",
       "      <td>4.0</td>\n",
       "      <td>4.0</td>\n",
       "      <td>7.0</td>\n",
       "    </tr>\n",
       "    <tr>\n",
       "      <th>Speed_test_result</th>\n",
       "      <td>100000.0</td>\n",
       "      <td>81.668540</td>\n",
       "      <td>9.952554</td>\n",
       "      <td>72.0</td>\n",
       "      <td>78.00</td>\n",
       "      <td>81.0</td>\n",
       "      <td>85.0</td>\n",
       "      <td>332.0</td>\n",
       "    </tr>\n",
       "  </tbody>\n",
       "</table>\n",
       "</div>"
      ],
      "text/plain": [
       "                               count         mean          std     min  \\\n",
       "active_cust                 100000.0     0.578590     0.493787     0.0   \n",
       "income                      100000.0  1855.279910  2712.385257  1130.0   \n",
       "expenditure                 100000.0  1409.669662  2174.330870   904.0   \n",
       "months_on_network           100000.0    58.402450    18.643736   -20.0   \n",
       "Num_complaints              100000.0     4.012840     0.285265     3.0   \n",
       "number_plan_changes         100000.0     1.385410     1.617101     0.0   \n",
       "relocated                   100000.0     0.123480     0.328989     0.0   \n",
       "monthly_bill                100000.0    95.816450    50.161327    30.0   \n",
       "technical_issues_per_month  100000.0     3.316730     1.241470     1.0   \n",
       "Speed_test_result           100000.0    81.668540     9.952554    72.0   \n",
       "\n",
       "                                25%     50%     75%       max  \n",
       "active_cust                    0.00     1.0     1.0       1.0  \n",
       "income                      1674.00  1805.0  1907.0  229821.0  \n",
       "expenditure                 1248.65  1358.4  1494.4  183856.8  \n",
       "months_on_network             47.00    56.0    70.0     449.0  \n",
       "Num_complaints                 4.00     4.0     4.0       6.0  \n",
       "number_plan_changes            0.00     1.0     2.0       9.0  \n",
       "relocated                      0.00     0.0     0.0       1.0  \n",
       "monthly_bill                  45.00    87.0   133.0     181.0  \n",
       "technical_issues_per_month     3.00     4.0     4.0       7.0  \n",
       "Speed_test_result             78.00    81.0    85.0     332.0  "
      ]
     },
     "execution_count": 44,
     "metadata": {},
     "output_type": "execute_result"
    }
   ],
   "source": [
    "df.describe().transpose()"
   ]
  },
  {
   "cell_type": "code",
   "execution_count": 45,
   "metadata": {},
   "outputs": [
    {
     "data": {
      "text/plain": [
       "1    57859\n",
       "0    42141\n",
       "Name: active_cust, dtype: int64"
      ]
     },
     "execution_count": 45,
     "metadata": {},
     "output_type": "execute_result"
    }
   ],
   "source": [
    "df['active_cust'].value_counts()"
   ]
  },
  {
   "cell_type": "code",
   "execution_count": 46,
   "metadata": {},
   "outputs": [
    {
     "name": "stdout",
     "output_type": "stream",
     "text": [
      "1    57.9%\n",
      "0    42.1%\n",
      "Name: active_cust, dtype: object\n"
     ]
    }
   ],
   "source": [
    "percent100 = df['active_cust'].value_counts(normalize=True).mul(100).round(1).astype(str) + '%'\n",
    "print(percent100)"
   ]
  },
  {
   "cell_type": "code",
   "execution_count": 47,
   "metadata": {},
   "outputs": [
    {
     "data": {
      "text/plain": [
       "<matplotlib.axes._subplots.AxesSubplot at 0x1c46f5f4240>"
      ]
     },
     "execution_count": 47,
     "metadata": {},
     "output_type": "execute_result"
    },
    {
     "data": {
      "image/png": "[encoded data removed]",
      "text/plain": [
       "<Figure size 432x288 with 1 Axes>"
      ]
     },
     "metadata": {
      "needs_background": "light"
     },
     "output_type": "display_data"
    }
   ],
   "source": [
    "df['active_cust'].plot.hist(bins=2)"
   ]
  },
  {
   "cell_type": "code",
   "execution_count": 49,
   "metadata": {},
   "outputs": [
    {
     "data": {
      "image/png": "[encoded data removed]",
      "text/plain": [
       "<Figure size 1080x1440 with 12 Axes>"
      ]
     },
     "metadata": {
      "needs_background": "light"
     },
     "output_type": "display_data"
    }
   ],
   "source": [
    "# Plot the distribution for each variable\n",
    "df.hist(figsize=(15,20),bins = 50,xlabelsize=8,ylabelsize =8)\n",
    "plt.show()"
   ]
  },
  {
   "cell_type": "code",
   "execution_count": 50,
   "metadata": {},
   "outputs": [],
   "source": [
    "#### Takes lot of time\n",
    "#sns.pairplot(df)"
   ]
  },
  {
   "cell_type": "code",
   "execution_count": 51,
   "metadata": {},
   "outputs": [
    {
     "data": {
      "text/plain": [
       "active_cust                   1.000000\n",
       "income                        0.001201\n",
       "expenditure                  -0.003939\n",
       "months_on_network             0.188113\n",
       "Num_complaints               -0.083481\n",
       "number_plan_changes          -0.283100\n",
       "relocated                    -0.381069\n",
       "monthly_bill                 -0.060156\n",
       "technical_issues_per_month   -0.260249\n",
       "Speed_test_result             0.156385\n",
       "Name: active_cust, dtype: float64"
      ]
     },
     "execution_count": 51,
     "metadata": {},
     "output_type": "execute_result"
    }
   ],
   "source": [
    "df.corr()[\"active_cust\"]"
   ]
  },
  {
   "cell_type": "code",
   "execution_count": 52,
   "metadata": {},
   "outputs": [
    {
     "data": {
      "text/html": [
       "<style  type=\"text/css\" >\n",
       "    #T_81c7710a_58a5_11ea_bd4c_e470b851bc23row0_col0 {\n",
       "            background-color:  #b40426;\n",
       "            color:  #f1f1f1;\n",
       "        }    #T_81c7710a_58a5_11ea_bd4c_e470b851bc23row0_col1 {\n",
       "            background-color:  #96b7ff;\n",
       "            color:  #000000;\n",
       "        }    #T_81c7710a_58a5_11ea_bd4c_e470b851bc23row0_col2 {\n",
       "            background-color:  #94b6ff;\n",
       "            color:  #000000;\n",
       "        }    #T_81c7710a_58a5_11ea_bd4c_e470b851bc23row0_col3 {\n",
       "            background-color:  #c4d5f3;\n",
       "            color:  #000000;\n",
       "        }    #T_81c7710a_58a5_11ea_bd4c_e470b851bc23row0_col4 {\n",
       "            background-color:  #81a4fb;\n",
       "            color:  #000000;\n",
       "        }    #T_81c7710a_58a5_11ea_bd4c_e470b851bc23row0_col5 {\n",
       "            background-color:  #506bda;\n",
       "            color:  #000000;\n",
       "        }    #T_81c7710a_58a5_11ea_bd4c_e470b851bc23row0_col6 {\n",
       "            background-color:  #3b4cc0;\n",
       "            color:  #f1f1f1;\n",
       "        }    #T_81c7710a_58a5_11ea_bd4c_e470b851bc23row0_col7 {\n",
       "            background-color:  #86a9fc;\n",
       "            color:  #000000;\n",
       "        }    #T_81c7710a_58a5_11ea_bd4c_e470b851bc23row0_col8 {\n",
       "            background-color:  #5572df;\n",
       "            color:  #000000;\n",
       "        }    #T_81c7710a_58a5_11ea_bd4c_e470b851bc23row0_col9 {\n",
       "            background-color:  #bcd2f7;\n",
       "            color:  #000000;\n",
       "        }    #T_81c7710a_58a5_11ea_bd4c_e470b851bc23row1_col0 {\n",
       "            background-color:  #5d7ce6;\n",
       "            color:  #000000;\n",
       "        }    #T_81c7710a_58a5_11ea_bd4c_e470b851bc23row1_col1 {\n",
       "            background-color:  #b40426;\n",
       "            color:  #f1f1f1;\n",
       "        }    #T_81c7710a_58a5_11ea_bd4c_e470b851bc23row1_col2 {\n",
       "            background-color:  #b40426;\n",
       "            color:  #f1f1f1;\n",
       "        }    #T_81c7710a_58a5_11ea_bd4c_e470b851bc23row1_col3 {\n",
       "            background-color:  #3b4cc0;\n",
       "            color:  #f1f1f1;\n",
       "        }    #T_81c7710a_58a5_11ea_bd4c_e470b851bc23row1_col4 {\n",
       "            background-color:  #5d7ce6;\n",
       "            color:  #000000;\n",
       "        }    #T_81c7710a_58a5_11ea_bd4c_e470b851bc23row1_col5 {\n",
       "            background-color:  #5b7ae5;\n",
       "            color:  #000000;\n",
       "        }    #T_81c7710a_58a5_11ea_bd4c_e470b851bc23row1_col6 {\n",
       "            background-color:  #5d7ce6;\n",
       "            color:  #000000;\n",
       "        }    #T_81c7710a_58a5_11ea_bd4c_e470b851bc23row1_col7 {\n",
       "            background-color:  #5a78e4;\n",
       "            color:  #000000;\n",
       "        }    #T_81c7710a_58a5_11ea_bd4c_e470b851bc23row1_col8 {\n",
       "            background-color:  #5b7ae5;\n",
       "            color:  #000000;\n",
       "        }    #T_81c7710a_58a5_11ea_bd4c_e470b851bc23row1_col9 {\n",
       "            background-color:  #5f7fe8;\n",
       "            color:  #000000;\n",
       "        }    #T_81c7710a_58a5_11ea_bd4c_e470b851bc23row2_col0 {\n",
       "            background-color:  #5a78e4;\n",
       "            color:  #000000;\n",
       "        }    #T_81c7710a_58a5_11ea_bd4c_e470b851bc23row2_col1 {\n",
       "            background-color:  #b40426;\n",
       "            color:  #f1f1f1;\n",
       "        }    #T_81c7710a_58a5_11ea_bd4c_e470b851bc23row2_col2 {\n",
       "            background-color:  #b40426;\n",
       "            color:  #f1f1f1;\n",
       "        }    #T_81c7710a_58a5_11ea_bd4c_e470b851bc23row2_col3 {\n",
       "            background-color:  #3b4cc0;\n",
       "            color:  #f1f1f1;\n",
       "        }    #T_81c7710a_58a5_11ea_bd4c_e470b851bc23row2_col4 {\n",
       "            background-color:  #5b7ae5;\n",
       "            color:  #000000;\n",
       "        }    #T_81c7710a_58a5_11ea_bd4c_e470b851bc23row2_col5 {\n",
       "            background-color:  #5977e3;\n",
       "            color:  #000000;\n",
       "        }    #T_81c7710a_58a5_11ea_bd4c_e470b851bc23row2_col6 {\n",
       "            background-color:  #5b7ae5;\n",
       "            color:  #000000;\n",
       "        }    #T_81c7710a_58a5_11ea_bd4c_e470b851bc23row2_col7 {\n",
       "            background-color:  #5977e3;\n",
       "            color:  #000000;\n",
       "        }    #T_81c7710a_58a5_11ea_bd4c_e470b851bc23row2_col8 {\n",
       "            background-color:  #5977e3;\n",
       "            color:  #000000;\n",
       "        }    #T_81c7710a_58a5_11ea_bd4c_e470b851bc23row2_col9 {\n",
       "            background-color:  #5f7fe8;\n",
       "            color:  #000000;\n",
       "        }    #T_81c7710a_58a5_11ea_bd4c_e470b851bc23row3_col0 {\n",
       "            background-color:  #96b7ff;\n",
       "            color:  #000000;\n",
       "        }    #T_81c7710a_58a5_11ea_bd4c_e470b851bc23row3_col1 {\n",
       "            background-color:  #3b4cc0;\n",
       "            color:  #f1f1f1;\n",
       "        }    #T_81c7710a_58a5_11ea_bd4c_e470b851bc23row3_col2 {\n",
       "            background-color:  #3b4cc0;\n",
       "            color:  #f1f1f1;\n",
       "        }    #T_81c7710a_58a5_11ea_bd4c_e470b851bc23row3_col3 {\n",
       "            background-color:  #b40426;\n",
       "            color:  #f1f1f1;\n",
       "        }    #T_81c7710a_58a5_11ea_bd4c_e470b851bc23row3_col4 {\n",
       "            background-color:  #455cce;\n",
       "            color:  #f1f1f1;\n",
       "        }    #T_81c7710a_58a5_11ea_bd4c_e470b851bc23row3_col5 {\n",
       "            background-color:  #6384eb;\n",
       "            color:  #000000;\n",
       "        }    #T_81c7710a_58a5_11ea_bd4c_e470b851bc23row3_col6 {\n",
       "            background-color:  #4f69d9;\n",
       "            color:  #000000;\n",
       "        }    #T_81c7710a_58a5_11ea_bd4c_e470b851bc23row3_col7 {\n",
       "            background-color:  #5e7de7;\n",
       "            color:  #000000;\n",
       "        }    #T_81c7710a_58a5_11ea_bd4c_e470b851bc23row3_col8 {\n",
       "            background-color:  #506bda;\n",
       "            color:  #000000;\n",
       "        }    #T_81c7710a_58a5_11ea_bd4c_e470b851bc23row3_col9 {\n",
       "            background-color:  #6282ea;\n",
       "            color:  #000000;\n",
       "        }    #T_81c7710a_58a5_11ea_bd4c_e470b851bc23row4_col0 {\n",
       "            background-color:  #3b4cc0;\n",
       "            color:  #f1f1f1;\n",
       "        }    #T_81c7710a_58a5_11ea_bd4c_e470b851bc23row4_col1 {\n",
       "            background-color:  #536edd;\n",
       "            color:  #000000;\n",
       "        }    #T_81c7710a_58a5_11ea_bd4c_e470b851bc23row4_col2 {\n",
       "            background-color:  #516ddb;\n",
       "            color:  #000000;\n",
       "        }    #T_81c7710a_58a5_11ea_bd4c_e470b851bc23row4_col3 {\n",
       "            background-color:  #3b4cc0;\n",
       "            color:  #f1f1f1;\n",
       "        }    #T_81c7710a_58a5_11ea_bd4c_e470b851bc23row4_col4 {\n",
       "            background-color:  #b40426;\n",
       "            color:  #f1f1f1;\n",
       "        }    #T_81c7710a_58a5_11ea_bd4c_e470b851bc23row4_col5 {\n",
       "            background-color:  #688aef;\n",
       "            color:  #000000;\n",
       "        }    #T_81c7710a_58a5_11ea_bd4c_e470b851bc23row4_col6 {\n",
       "            background-color:  #6282ea;\n",
       "            color:  #000000;\n",
       "        }    #T_81c7710a_58a5_11ea_bd4c_e470b851bc23row4_col7 {\n",
       "            background-color:  #536edd;\n",
       "            color:  #000000;\n",
       "        }    #T_81c7710a_58a5_11ea_bd4c_e470b851bc23row4_col8 {\n",
       "            background-color:  #5875e1;\n",
       "            color:  #000000;\n",
       "        }    #T_81c7710a_58a5_11ea_bd4c_e470b851bc23row4_col9 {\n",
       "            background-color:  #536edd;\n",
       "            color:  #000000;\n",
       "        }    #T_81c7710a_58a5_11ea_bd4c_e470b851bc23row5_col0 {\n",
       "            background-color:  #3b4cc0;\n",
       "            color:  #f1f1f1;\n",
       "        }    #T_81c7710a_58a5_11ea_bd4c_e470b851bc23row5_col1 {\n",
       "            background-color:  #81a4fb;\n",
       "            color:  #000000;\n",
       "        }    #T_81c7710a_58a5_11ea_bd4c_e470b851bc23row5_col2 {\n",
       "            background-color:  #80a3fa;\n",
       "            color:  #000000;\n",
       "        }    #T_81c7710a_58a5_11ea_bd4c_e470b851bc23row5_col3 {\n",
       "            background-color:  #88abfd;\n",
       "            color:  #000000;\n",
       "        }    #T_81c7710a_58a5_11ea_bd4c_e470b851bc23row5_col4 {\n",
       "            background-color:  #97b8ff;\n",
       "            color:  #000000;\n",
       "        }    #T_81c7710a_58a5_11ea_bd4c_e470b851bc23row5_col5 {\n",
       "            background-color:  #b40426;\n",
       "            color:  #f1f1f1;\n",
       "        }    #T_81c7710a_58a5_11ea_bd4c_e470b851bc23row5_col6 {\n",
       "            background-color:  #f7b194;\n",
       "            color:  #000000;\n",
       "        }    #T_81c7710a_58a5_11ea_bd4c_e470b851bc23row5_col7 {\n",
       "            background-color:  #89acfd;\n",
       "            color:  #000000;\n",
       "        }    #T_81c7710a_58a5_11ea_bd4c_e470b851bc23row5_col8 {\n",
       "            background-color:  #b3cdfb;\n",
       "            color:  #000000;\n",
       "        }    #T_81c7710a_58a5_11ea_bd4c_e470b851bc23row5_col9 {\n",
       "            background-color:  #80a3fa;\n",
       "            color:  #000000;\n",
       "        }    #T_81c7710a_58a5_11ea_bd4c_e470b851bc23row6_col0 {\n",
       "            background-color:  #3b4cc0;\n",
       "            color:  #f1f1f1;\n",
       "        }    #T_81c7710a_58a5_11ea_bd4c_e470b851bc23row6_col1 {\n",
       "            background-color:  #96b7ff;\n",
       "            color:  #000000;\n",
       "        }    #T_81c7710a_58a5_11ea_bd4c_e470b851bc23row6_col2 {\n",
       "            background-color:  #96b7ff;\n",
       "            color:  #000000;\n",
       "        }    #T_81c7710a_58a5_11ea_bd4c_e470b851bc23row6_col3 {\n",
       "            background-color:  #8badfd;\n",
       "            color:  #000000;\n",
       "        }    #T_81c7710a_58a5_11ea_bd4c_e470b851bc23row6_col4 {\n",
       "            background-color:  #a3c2fe;\n",
       "            color:  #000000;\n",
       "        }    #T_81c7710a_58a5_11ea_bd4c_e470b851bc23row6_col5 {\n",
       "            background-color:  #f7a98b;\n",
       "            color:  #000000;\n",
       "        }    #T_81c7710a_58a5_11ea_bd4c_e470b851bc23row6_col6 {\n",
       "            background-color:  #b40426;\n",
       "            color:  #f1f1f1;\n",
       "        }    #T_81c7710a_58a5_11ea_bd4c_e470b851bc23row6_col7 {\n",
       "            background-color:  #9bbcff;\n",
       "            color:  #000000;\n",
       "        }    #T_81c7710a_58a5_11ea_bd4c_e470b851bc23row6_col8 {\n",
       "            background-color:  #b2ccfb;\n",
       "            color:  #000000;\n",
       "        }    #T_81c7710a_58a5_11ea_bd4c_e470b851bc23row6_col9 {\n",
       "            background-color:  #9abbff;\n",
       "            color:  #000000;\n",
       "        }    #T_81c7710a_58a5_11ea_bd4c_e470b851bc23row7_col0 {\n",
       "            background-color:  #3b4cc0;\n",
       "            color:  #f1f1f1;\n",
       "        }    #T_81c7710a_58a5_11ea_bd4c_e470b851bc23row7_col1 {\n",
       "            background-color:  #4a63d3;\n",
       "            color:  #f1f1f1;\n",
       "        }    #T_81c7710a_58a5_11ea_bd4c_e470b851bc23row7_col2 {\n",
       "            background-color:  #4a63d3;\n",
       "            color:  #f1f1f1;\n",
       "        }    #T_81c7710a_58a5_11ea_bd4c_e470b851bc23row7_col3 {\n",
       "            background-color:  #4e68d8;\n",
       "            color:  #000000;\n",
       "        }    #T_81c7710a_58a5_11ea_bd4c_e470b851bc23row7_col4 {\n",
       "            background-color:  #4c66d6;\n",
       "            color:  #000000;\n",
       "        }    #T_81c7710a_58a5_11ea_bd4c_e470b851bc23row7_col5 {\n",
       "            background-color:  #536edd;\n",
       "            color:  #000000;\n",
       "        }    #T_81c7710a_58a5_11ea_bd4c_e470b851bc23row7_col6 {\n",
       "            background-color:  #516ddb;\n",
       "            color:  #000000;\n",
       "        }    #T_81c7710a_58a5_11ea_bd4c_e470b851bc23row7_col7 {\n",
       "            background-color:  #b40426;\n",
       "            color:  #f1f1f1;\n",
       "        }    #T_81c7710a_58a5_11ea_bd4c_e470b851bc23row7_col8 {\n",
       "            background-color:  #7396f5;\n",
       "            color:  #000000;\n",
       "        }    #T_81c7710a_58a5_11ea_bd4c_e470b851bc23row7_col9 {\n",
       "            background-color:  #4b64d5;\n",
       "            color:  #f1f1f1;\n",
       "        }    #T_81c7710a_58a5_11ea_bd4c_e470b851bc23row8_col0 {\n",
       "            background-color:  #3b4cc0;\n",
       "            color:  #f1f1f1;\n",
       "        }    #T_81c7710a_58a5_11ea_bd4c_e470b851bc23row8_col1 {\n",
       "            background-color:  #7da0f9;\n",
       "            color:  #000000;\n",
       "        }    #T_81c7710a_58a5_11ea_bd4c_e470b851bc23row8_col2 {\n",
       "            background-color:  #7b9ff9;\n",
       "            color:  #000000;\n",
       "        }    #T_81c7710a_58a5_11ea_bd4c_e470b851bc23row8_col3 {\n",
       "            background-color:  #7295f4;\n",
       "            color:  #000000;\n",
       "        }    #T_81c7710a_58a5_11ea_bd4c_e470b851bc23row8_col4 {\n",
       "            background-color:  #82a6fb;\n",
       "            color:  #000000;\n",
       "        }    #T_81c7710a_58a5_11ea_bd4c_e470b851bc23row8_col5 {\n",
       "            background-color:  #afcafc;\n",
       "            color:  #000000;\n",
       "        }    #T_81c7710a_58a5_11ea_bd4c_e470b851bc23row8_col6 {\n",
       "            background-color:  #9dbdff;\n",
       "            color:  #000000;\n",
       "        }    #T_81c7710a_58a5_11ea_bd4c_e470b851bc23row8_col7 {\n",
       "            background-color:  #a1c0ff;\n",
       "            color:  #000000;\n",
       "        }    #T_81c7710a_58a5_11ea_bd4c_e470b851bc23row8_col8 {\n",
       "            background-color:  #b40426;\n",
       "            color:  #f1f1f1;\n",
       "        }    #T_81c7710a_58a5_11ea_bd4c_e470b851bc23row8_col9 {\n",
       "            background-color:  #6e90f2;\n",
       "            color:  #000000;\n",
       "        }    #T_81c7710a_58a5_11ea_bd4c_e470b851bc23row9_col0 {\n",
       "            background-color:  #7b9ff9;\n",
       "            color:  #000000;\n",
       "        }    #T_81c7710a_58a5_11ea_bd4c_e470b851bc23row9_col1 {\n",
       "            background-color:  #4c66d6;\n",
       "            color:  #000000;\n",
       "        }    #T_81c7710a_58a5_11ea_bd4c_e470b851bc23row9_col2 {\n",
       "            background-color:  #4f69d9;\n",
       "            color:  #000000;\n",
       "        }    #T_81c7710a_58a5_11ea_bd4c_e470b851bc23row9_col3 {\n",
       "            background-color:  #506bda;\n",
       "            color:  #000000;\n",
       "        }    #T_81c7710a_58a5_11ea_bd4c_e470b851bc23row9_col4 {\n",
       "            background-color:  #4b64d5;\n",
       "            color:  #f1f1f1;\n",
       "        }    #T_81c7710a_58a5_11ea_bd4c_e470b851bc23row9_col5 {\n",
       "            background-color:  #485fd1;\n",
       "            color:  #f1f1f1;\n",
       "        }    #T_81c7710a_58a5_11ea_bd4c_e470b851bc23row9_col6 {\n",
       "            background-color:  #4f69d9;\n",
       "            color:  #000000;\n",
       "        }    #T_81c7710a_58a5_11ea_bd4c_e470b851bc23row9_col7 {\n",
       "            background-color:  #4a63d3;\n",
       "            color:  #f1f1f1;\n",
       "        }    #T_81c7710a_58a5_11ea_bd4c_e470b851bc23row9_col8 {\n",
       "            background-color:  #3b4cc0;\n",
       "            color:  #f1f1f1;\n",
       "        }    #T_81c7710a_58a5_11ea_bd4c_e470b851bc23row9_col9 {\n",
       "            background-color:  #b40426;\n",
       "            color:  #f1f1f1;\n",
       "        }</style><table id=\"T_81c7710a_58a5_11ea_bd4c_e470b851bc23\" ><thead>    <tr>        <th class=\"blank level0\" ></th>        <th class=\"col_heading level0 col0\" >active_cust</th>        <th class=\"col_heading level0 col1\" >income</th>        <th class=\"col_heading level0 col2\" >expenditure</th>        <th class=\"col_heading level0 col3\" >months_on_network</th>        <th class=\"col_heading level0 col4\" >Num_complaints</th>        <th class=\"col_heading level0 col5\" >number_plan_changes</th>        <th class=\"col_heading level0 col6\" >relocated</th>        <th class=\"col_heading level0 col7\" >monthly_bill</th>        <th class=\"col_heading level0 col8\" >technical_issues_per_month</th>        <th class=\"col_heading level0 col9\" >Speed_test_result</th>    </tr></thead><tbody>\n",
       "                <tr>\n",
       "                        <th id=\"T_81c7710a_58a5_11ea_bd4c_e470b851bc23level0_row0\" class=\"row_heading level0 row0\" >active_cust</th>\n",
       "                        <td id=\"T_81c7710a_58a5_11ea_bd4c_e470b851bc23row0_col0\" class=\"data row0 col0\" >1.0</td>\n",
       "                        <td id=\"T_81c7710a_58a5_11ea_bd4c_e470b851bc23row0_col1\" class=\"data row0 col1\" >0.0012</td>\n",
       "                        <td id=\"T_81c7710a_58a5_11ea_bd4c_e470b851bc23row0_col2\" class=\"data row0 col2\" >-0.0039</td>\n",
       "                        <td id=\"T_81c7710a_58a5_11ea_bd4c_e470b851bc23row0_col3\" class=\"data row0 col3\" >0.19</td>\n",
       "                        <td id=\"T_81c7710a_58a5_11ea_bd4c_e470b851bc23row0_col4\" class=\"data row0 col4\" >-0.083</td>\n",
       "                        <td id=\"T_81c7710a_58a5_11ea_bd4c_e470b851bc23row0_col5\" class=\"data row0 col5\" >-0.28</td>\n",
       "                        <td id=\"T_81c7710a_58a5_11ea_bd4c_e470b851bc23row0_col6\" class=\"data row0 col6\" >-0.38</td>\n",
       "                        <td id=\"T_81c7710a_58a5_11ea_bd4c_e470b851bc23row0_col7\" class=\"data row0 col7\" >-0.06</td>\n",
       "                        <td id=\"T_81c7710a_58a5_11ea_bd4c_e470b851bc23row0_col8\" class=\"data row0 col8\" >-0.26</td>\n",
       "                        <td id=\"T_81c7710a_58a5_11ea_bd4c_e470b851bc23row0_col9\" class=\"data row0 col9\" >0.16</td>\n",
       "            </tr>\n",
       "            <tr>\n",
       "                        <th id=\"T_81c7710a_58a5_11ea_bd4c_e470b851bc23level0_row1\" class=\"row_heading level0 row1\" >income</th>\n",
       "                        <td id=\"T_81c7710a_58a5_11ea_bd4c_e470b851bc23row1_col0\" class=\"data row1 col0\" >0.0012</td>\n",
       "                        <td id=\"T_81c7710a_58a5_11ea_bd4c_e470b851bc23row1_col1\" class=\"data row1 col1\" >1.0</td>\n",
       "                        <td id=\"T_81c7710a_58a5_11ea_bd4c_e470b851bc23row1_col2\" class=\"data row1 col2\" >1.0</td>\n",
       "                        <td id=\"T_81c7710a_58a5_11ea_bd4c_e470b851bc23row1_col3\" class=\"data row1 col3\" >-0.12</td>\n",
       "                        <td id=\"T_81c7710a_58a5_11ea_bd4c_e470b851bc23row1_col4\" class=\"data row1 col4\" >0.0031</td>\n",
       "                        <td id=\"T_81c7710a_58a5_11ea_bd4c_e470b851bc23row1_col5\" class=\"data row1 col5\" >-0.0036</td>\n",
       "                        <td id=\"T_81c7710a_58a5_11ea_bd4c_e470b851bc23row1_col6\" class=\"data row1 col6\" >0.0019</td>\n",
       "                        <td id=\"T_81c7710a_58a5_11ea_bd4c_e470b851bc23row1_col7\" class=\"data row1 col7\" >-0.0047</td>\n",
       "                        <td id=\"T_81c7710a_58a5_11ea_bd4c_e470b851bc23row1_col8\" class=\"data row1 col8\" >-0.0026</td>\n",
       "                        <td id=\"T_81c7710a_58a5_11ea_bd4c_e470b851bc23row1_col9\" class=\"data row1 col9\" >0.01</td>\n",
       "            </tr>\n",
       "            <tr>\n",
       "                        <th id=\"T_81c7710a_58a5_11ea_bd4c_e470b851bc23level0_row2\" class=\"row_heading level0 row2\" >expenditure</th>\n",
       "                        <td id=\"T_81c7710a_58a5_11ea_bd4c_e470b851bc23row2_col0\" class=\"data row2 col0\" >-0.0039</td>\n",
       "                        <td id=\"T_81c7710a_58a5_11ea_bd4c_e470b851bc23row2_col1\" class=\"data row2 col1\" >1.0</td>\n",
       "                        <td id=\"T_81c7710a_58a5_11ea_bd4c_e470b851bc23row2_col2\" class=\"data row2 col2\" >1.0</td>\n",
       "                        <td id=\"T_81c7710a_58a5_11ea_bd4c_e470b851bc23row2_col3\" class=\"data row2 col3\" >-0.12</td>\n",
       "                        <td id=\"T_81c7710a_58a5_11ea_bd4c_e470b851bc23row2_col4\" class=\"data row2 col4\" >0.00049</td>\n",
       "                        <td id=\"T_81c7710a_58a5_11ea_bd4c_e470b851bc23row2_col5\" class=\"data row2 col5\" >-0.0078</td>\n",
       "                        <td id=\"T_81c7710a_58a5_11ea_bd4c_e470b851bc23row2_col6\" class=\"data row2 col6\" >0.0013</td>\n",
       "                        <td id=\"T_81c7710a_58a5_11ea_bd4c_e470b851bc23row2_col7\" class=\"data row2 col7\" >-0.006</td>\n",
       "                        <td id=\"T_81c7710a_58a5_11ea_bd4c_e470b851bc23row2_col8\" class=\"data row2 col8\" >-0.0057</td>\n",
       "                        <td id=\"T_81c7710a_58a5_11ea_bd4c_e470b851bc23row2_col9\" class=\"data row2 col9\" >0.016</td>\n",
       "            </tr>\n",
       "            <tr>\n",
       "                        <th id=\"T_81c7710a_58a5_11ea_bd4c_e470b851bc23level0_row3\" class=\"row_heading level0 row3\" >months_on_network</th>\n",
       "                        <td id=\"T_81c7710a_58a5_11ea_bd4c_e470b851bc23row3_col0\" class=\"data row3 col0\" >0.19</td>\n",
       "                        <td id=\"T_81c7710a_58a5_11ea_bd4c_e470b851bc23row3_col1\" class=\"data row3 col1\" >-0.12</td>\n",
       "                        <td id=\"T_81c7710a_58a5_11ea_bd4c_e470b851bc23row3_col2\" class=\"data row3 col2\" >-0.12</td>\n",
       "                        <td id=\"T_81c7710a_58a5_11ea_bd4c_e470b851bc23row3_col3\" class=\"data row3 col3\" >1.0</td>\n",
       "                        <td id=\"T_81c7710a_58a5_11ea_bd4c_e470b851bc23row3_col4\" class=\"data row3 col4\" >-0.082</td>\n",
       "                        <td id=\"T_81c7710a_58a5_11ea_bd4c_e470b851bc23row3_col5\" class=\"data row3 col5\" >0.023</td>\n",
       "                        <td id=\"T_81c7710a_58a5_11ea_bd4c_e470b851bc23row3_col6\" class=\"data row3 col6\" >-0.045</td>\n",
       "                        <td id=\"T_81c7710a_58a5_11ea_bd4c_e470b851bc23row3_col7\" class=\"data row3 col7\" >0.008</td>\n",
       "                        <td id=\"T_81c7710a_58a5_11ea_bd4c_e470b851bc23row3_col8\" class=\"data row3 col8\" >-0.041</td>\n",
       "                        <td id=\"T_81c7710a_58a5_11ea_bd4c_e470b851bc23row3_col9\" class=\"data row3 col9\" >0.02</td>\n",
       "            </tr>\n",
       "            <tr>\n",
       "                        <th id=\"T_81c7710a_58a5_11ea_bd4c_e470b851bc23level0_row4\" class=\"row_heading level0 row4\" >Num_complaints</th>\n",
       "                        <td id=\"T_81c7710a_58a5_11ea_bd4c_e470b851bc23row4_col0\" class=\"data row4 col0\" >-0.083</td>\n",
       "                        <td id=\"T_81c7710a_58a5_11ea_bd4c_e470b851bc23row4_col1\" class=\"data row4 col1\" >0.0031</td>\n",
       "                        <td id=\"T_81c7710a_58a5_11ea_bd4c_e470b851bc23row4_col2\" class=\"data row4 col2\" >0.00049</td>\n",
       "                        <td id=\"T_81c7710a_58a5_11ea_bd4c_e470b851bc23row4_col3\" class=\"data row4 col3\" >-0.082</td>\n",
       "                        <td id=\"T_81c7710a_58a5_11ea_bd4c_e470b851bc23row4_col4\" class=\"data row4 col4\" >1.0</td>\n",
       "                        <td id=\"T_81c7710a_58a5_11ea_bd4c_e470b851bc23row4_col5\" class=\"data row4 col5\" >0.074</td>\n",
       "                        <td id=\"T_81c7710a_58a5_11ea_bd4c_e470b851bc23row4_col6\" class=\"data row4 col6\" >0.054</td>\n",
       "                        <td id=\"T_81c7710a_58a5_11ea_bd4c_e470b851bc23row4_col7\" class=\"data row4 col7\" >0.005</td>\n",
       "                        <td id=\"T_81c7710a_58a5_11ea_bd4c_e470b851bc23row4_col8\" class=\"data row4 col8\" >0.02</td>\n",
       "                        <td id=\"T_81c7710a_58a5_11ea_bd4c_e470b851bc23row4_col9\" class=\"data row4 col9\" >0.0041</td>\n",
       "            </tr>\n",
       "            <tr>\n",
       "                        <th id=\"T_81c7710a_58a5_11ea_bd4c_e470b851bc23level0_row5\" class=\"row_heading level0 row5\" >number_plan_changes</th>\n",
       "                        <td id=\"T_81c7710a_58a5_11ea_bd4c_e470b851bc23row5_col0\" class=\"data row5 col0\" >-0.28</td>\n",
       "                        <td id=\"T_81c7710a_58a5_11ea_bd4c_e470b851bc23row5_col1\" class=\"data row5 col1\" >-0.0036</td>\n",
       "                        <td id=\"T_81c7710a_58a5_11ea_bd4c_e470b851bc23row5_col2\" class=\"data row5 col2\" >-0.0078</td>\n",
       "                        <td id=\"T_81c7710a_58a5_11ea_bd4c_e470b851bc23row5_col3\" class=\"data row5 col3\" >0.023</td>\n",
       "                        <td id=\"T_81c7710a_58a5_11ea_bd4c_e470b851bc23row5_col4\" class=\"data row5 col4\" >0.074</td>\n",
       "                        <td id=\"T_81c7710a_58a5_11ea_bd4c_e470b851bc23row5_col5\" class=\"data row5 col5\" >1.0</td>\n",
       "                        <td id=\"T_81c7710a_58a5_11ea_bd4c_e470b851bc23row5_col6\" class=\"data row5 col6\" >0.6</td>\n",
       "                        <td id=\"T_81c7710a_58a5_11ea_bd4c_e470b851bc23row5_col7\" class=\"data row5 col7\" >0.025</td>\n",
       "                        <td id=\"T_81c7710a_58a5_11ea_bd4c_e470b851bc23row5_col8\" class=\"data row5 col8\" >0.18</td>\n",
       "                        <td id=\"T_81c7710a_58a5_11ea_bd4c_e470b851bc23row5_col9\" class=\"data row5 col9\" >-0.0094</td>\n",
       "            </tr>\n",
       "            <tr>\n",
       "                        <th id=\"T_81c7710a_58a5_11ea_bd4c_e470b851bc23level0_row6\" class=\"row_heading level0 row6\" >relocated</th>\n",
       "                        <td id=\"T_81c7710a_58a5_11ea_bd4c_e470b851bc23row6_col0\" class=\"data row6 col0\" >-0.38</td>\n",
       "                        <td id=\"T_81c7710a_58a5_11ea_bd4c_e470b851bc23row6_col1\" class=\"data row6 col1\" >0.0019</td>\n",
       "                        <td id=\"T_81c7710a_58a5_11ea_bd4c_e470b851bc23row6_col2\" class=\"data row6 col2\" >0.0013</td>\n",
       "                        <td id=\"T_81c7710a_58a5_11ea_bd4c_e470b851bc23row6_col3\" class=\"data row6 col3\" >-0.045</td>\n",
       "                        <td id=\"T_81c7710a_58a5_11ea_bd4c_e470b851bc23row6_col4\" class=\"data row6 col4\" >0.054</td>\n",
       "                        <td id=\"T_81c7710a_58a5_11ea_bd4c_e470b851bc23row6_col5\" class=\"data row6 col5\" >0.6</td>\n",
       "                        <td id=\"T_81c7710a_58a5_11ea_bd4c_e470b851bc23row6_col6\" class=\"data row6 col6\" >1.0</td>\n",
       "                        <td id=\"T_81c7710a_58a5_11ea_bd4c_e470b851bc23row6_col7\" class=\"data row6 col7\" >0.019</td>\n",
       "                        <td id=\"T_81c7710a_58a5_11ea_bd4c_e470b851bc23row6_col8\" class=\"data row6 col8\" >0.11</td>\n",
       "                        <td id=\"T_81c7710a_58a5_11ea_bd4c_e470b851bc23row6_col9\" class=\"data row6 col9\" >0.015</td>\n",
       "            </tr>\n",
       "            <tr>\n",
       "                        <th id=\"T_81c7710a_58a5_11ea_bd4c_e470b851bc23level0_row7\" class=\"row_heading level0 row7\" >monthly_bill</th>\n",
       "                        <td id=\"T_81c7710a_58a5_11ea_bd4c_e470b851bc23row7_col0\" class=\"data row7 col0\" >-0.06</td>\n",
       "                        <td id=\"T_81c7710a_58a5_11ea_bd4c_e470b851bc23row7_col1\" class=\"data row7 col1\" >-0.0047</td>\n",
       "                        <td id=\"T_81c7710a_58a5_11ea_bd4c_e470b851bc23row7_col2\" class=\"data row7 col2\" >-0.006</td>\n",
       "                        <td id=\"T_81c7710a_58a5_11ea_bd4c_e470b851bc23row7_col3\" class=\"data row7 col3\" >0.008</td>\n",
       "                        <td id=\"T_81c7710a_58a5_11ea_bd4c_e470b851bc23row7_col4\" class=\"data row7 col4\" >0.005</td>\n",
       "                        <td id=\"T_81c7710a_58a5_11ea_bd4c_e470b851bc23row7_col5\" class=\"data row7 col5\" >0.025</td>\n",
       "                        <td id=\"T_81c7710a_58a5_11ea_bd4c_e470b851bc23row7_col6\" class=\"data row7 col6\" >0.019</td>\n",
       "                        <td id=\"T_81c7710a_58a5_11ea_bd4c_e470b851bc23row7_col7\" class=\"data row7 col7\" >1.0</td>\n",
       "                        <td id=\"T_81c7710a_58a5_11ea_bd4c_e470b851bc23row7_col8\" class=\"data row7 col8\" >0.13</td>\n",
       "                        <td id=\"T_81c7710a_58a5_11ea_bd4c_e470b851bc23row7_col9\" class=\"data row7 col9\" >-0.00035</td>\n",
       "            </tr>\n",
       "            <tr>\n",
       "                        <th id=\"T_81c7710a_58a5_11ea_bd4c_e470b851bc23level0_row8\" class=\"row_heading level0 row8\" >technical_issues_per_month</th>\n",
       "                        <td id=\"T_81c7710a_58a5_11ea_bd4c_e470b851bc23row8_col0\" class=\"data row8 col0\" >-0.26</td>\n",
       "                        <td id=\"T_81c7710a_58a5_11ea_bd4c_e470b851bc23row8_col1\" class=\"data row8 col1\" >-0.0026</td>\n",
       "                        <td id=\"T_81c7710a_58a5_11ea_bd4c_e470b851bc23row8_col2\" class=\"data row8 col2\" >-0.0057</td>\n",
       "                        <td id=\"T_81c7710a_58a5_11ea_bd4c_e470b851bc23row8_col3\" class=\"data row8 col3\" >-0.041</td>\n",
       "                        <td id=\"T_81c7710a_58a5_11ea_bd4c_e470b851bc23row8_col4\" class=\"data row8 col4\" >0.02</td>\n",
       "                        <td id=\"T_81c7710a_58a5_11ea_bd4c_e470b851bc23row8_col5\" class=\"data row8 col5\" >0.18</td>\n",
       "                        <td id=\"T_81c7710a_58a5_11ea_bd4c_e470b851bc23row8_col6\" class=\"data row8 col6\" >0.11</td>\n",
       "                        <td id=\"T_81c7710a_58a5_11ea_bd4c_e470b851bc23row8_col7\" class=\"data row8 col7\" >0.13</td>\n",
       "                        <td id=\"T_81c7710a_58a5_11ea_bd4c_e470b851bc23row8_col8\" class=\"data row8 col8\" >1.0</td>\n",
       "                        <td id=\"T_81c7710a_58a5_11ea_bd4c_e470b851bc23row8_col9\" class=\"data row8 col9\" >-0.055</td>\n",
       "            </tr>\n",
       "            <tr>\n",
       "                        <th id=\"T_81c7710a_58a5_11ea_bd4c_e470b851bc23level0_row9\" class=\"row_heading level0 row9\" >Speed_test_result</th>\n",
       "                        <td id=\"T_81c7710a_58a5_11ea_bd4c_e470b851bc23row9_col0\" class=\"data row9 col0\" >0.16</td>\n",
       "                        <td id=\"T_81c7710a_58a5_11ea_bd4c_e470b851bc23row9_col1\" class=\"data row9 col1\" >0.01</td>\n",
       "                        <td id=\"T_81c7710a_58a5_11ea_bd4c_e470b851bc23row9_col2\" class=\"data row9 col2\" >0.016</td>\n",
       "                        <td id=\"T_81c7710a_58a5_11ea_bd4c_e470b851bc23row9_col3\" class=\"data row9 col3\" >0.02</td>\n",
       "                        <td id=\"T_81c7710a_58a5_11ea_bd4c_e470b851bc23row9_col4\" class=\"data row9 col4\" >0.0041</td>\n",
       "                        <td id=\"T_81c7710a_58a5_11ea_bd4c_e470b851bc23row9_col5\" class=\"data row9 col5\" >-0.0094</td>\n",
       "                        <td id=\"T_81c7710a_58a5_11ea_bd4c_e470b851bc23row9_col6\" class=\"data row9 col6\" >0.015</td>\n",
       "                        <td id=\"T_81c7710a_58a5_11ea_bd4c_e470b851bc23row9_col7\" class=\"data row9 col7\" >-0.00035</td>\n",
       "                        <td id=\"T_81c7710a_58a5_11ea_bd4c_e470b851bc23row9_col8\" class=\"data row9 col8\" >-0.055</td>\n",
       "                        <td id=\"T_81c7710a_58a5_11ea_bd4c_e470b851bc23row9_col9\" class=\"data row9 col9\" >1.0</td>\n",
       "            </tr>\n",
       "    </tbody></table>"
      ],
      "text/plain": [
       "<pandas.io.formats.style.Styler at 0x1c47206c5f8>"
      ]
     },
     "execution_count": 52,
     "metadata": {},
     "output_type": "execute_result"
    }
   ],
   "source": [
    "# Check the correlation\n",
    "df.corr().style.format(\"{:.2}\").background_gradient(cmap=plt.get_cmap('coolwarm'), axis=1)"
   ]
  },
  {
   "cell_type": "markdown",
   "metadata": {},
   "source": [
    "## Income and Expenditure have 100 % correlation. Hence we can remove one of them safely."
   ]
  },
  {
   "cell_type": "code",
   "execution_count": 55,
   "metadata": {},
   "outputs": [],
   "source": [
    "## Dropping the expenditure column\n",
    "df = df.drop('expenditure',axis=1)"
   ]
  },
  {
   "cell_type": "markdown",
   "metadata": {},
   "source": [
    "# Normalize all the values to feed in the model"
   ]
  },
  {
   "cell_type": "code",
   "execution_count": 56,
   "metadata": {},
   "outputs": [],
   "source": [
    "from scipy.stats import zscore\n",
    "ddf_cust = df.drop('active_cust',axis=1).apply(zscore)\n",
    "\n",
    "X = ddf_cust.values[:]  ## Features\n",
    "Y = df['active_cust'].values[:]  ## Target"
   ]
  },
  {
   "cell_type": "markdown",
   "metadata": {},
   "source": [
    "# Predictor Column Matrix"
   ]
  },
  {
   "cell_type": "code",
   "execution_count": 57,
   "metadata": {},
   "outputs": [
    {
     "data": {
      "text/plain": [
       "(100000,)"
      ]
     },
     "execution_count": 57,
     "metadata": {},
     "output_type": "execute_result"
    }
   ],
   "source": [
    "Y.shape"
   ]
  },
  {
   "cell_type": "code",
   "execution_count": 58,
   "metadata": {},
   "outputs": [
    {
     "data": {
      "text/plain": [
       "(100000, 8)"
      ]
     },
     "execution_count": 58,
     "metadata": {},
     "output_type": "execute_result"
    }
   ],
   "source": [
    "X.shape"
   ]
  },
  {
   "cell_type": "markdown",
   "metadata": {},
   "source": [
    "# We are reduced to 8 features now."
   ]
  },
  {
   "cell_type": "code",
   "execution_count": 59,
   "metadata": {},
   "outputs": [],
   "source": [
    "#sns.pairplot(df, diag_kind='kde') "
   ]
  },
  {
   "cell_type": "code",
   "execution_count": 60,
   "metadata": {},
   "outputs": [],
   "source": [
    "X_train, X_test, Y_train, Y_test = train_test_split(X, Y, test_size = 0.3, random_state = 10)"
   ]
  },
  {
   "cell_type": "code",
   "execution_count": 61,
   "metadata": {},
   "outputs": [
    {
     "data": {
      "text/plain": [
       "0.8454333333333334"
      ]
     },
     "execution_count": 61,
     "metadata": {},
     "output_type": "execute_result"
    }
   ],
   "source": [
    "from sklearn import tree\n",
    "clf = tree.DecisionTreeClassifier()\n",
    "clf = clf.fit(X_train, Y_train)\n",
    "Y_pred = clf.predict(X_test)\n",
    "accuracy_score(Y_test, Y_pred)"
   ]
  },
  {
   "cell_type": "code",
   "execution_count": 62,
   "metadata": {},
   "outputs": [],
   "source": [
    "# Plot the tree:\n",
    "#tree.plot_tree(clf.fit(X, Y)) "
   ]
  },
  {
   "cell_type": "code",
   "execution_count": 63,
   "metadata": {},
   "outputs": [
    {
     "name": "stdout",
     "output_type": "stream",
     "text": [
      "              precision    recall  f1-score   support\n",
      "\n",
      "           0       0.82      0.82      0.82     12754\n",
      "           1       0.86      0.87      0.87     17246\n",
      "\n",
      "    accuracy                           0.85     30000\n",
      "   macro avg       0.84      0.84      0.84     30000\n",
      "weighted avg       0.85      0.85      0.85     30000\n",
      "\n"
     ]
    }
   ],
   "source": [
    "print(metrics.classification_report(Y_test,Y_pred))"
   ]
  },
  {
   "cell_type": "code",
   "execution_count": 64,
   "metadata": {},
   "outputs": [
    {
     "data": {
      "text/plain": [
       "0.7662333333333333"
      ]
     },
     "execution_count": 64,
     "metadata": {},
     "output_type": "execute_result"
    }
   ],
   "source": [
    "# 1 Logistic Regresssion\n",
    "lr = LogisticRegression()\n",
    "lr.fit(X_train,Y_train)\n",
    "Y_pred = lr.predict(X_test)\n",
    "accuracy_score(Y_test, Y_pred)"
   ]
  },
  {
   "cell_type": "code",
   "execution_count": 65,
   "metadata": {},
   "outputs": [
    {
     "name": "stdout",
     "output_type": "stream",
     "text": [
      "              precision    recall  f1-score   support\n",
      "\n",
      "           0       0.74      0.69      0.72     12754\n",
      "           1       0.78      0.82      0.80     17246\n",
      "\n",
      "    accuracy                           0.77     30000\n",
      "   macro avg       0.76      0.76      0.76     30000\n",
      "weighted avg       0.77      0.77      0.77     30000\n",
      "\n"
     ]
    }
   ],
   "source": [
    "print(metrics.classification_report(Y_test,Y_pred))"
   ]
  },
  {
   "cell_type": "code",
   "execution_count": 66,
   "metadata": {},
   "outputs": [
    {
     "data": {
      "text/plain": [
       "0.6276333333333334"
      ]
     },
     "execution_count": 66,
     "metadata": {},
     "output_type": "execute_result"
    }
   ],
   "source": [
    "# 2 Naive Bayes\n",
    "clf = GaussianNB()\n",
    "clf.fit(X_train, Y_train)\n",
    "Y_pred = clf.predict(X_test)\n",
    "accuracy_score(Y_test, Y_pred)"
   ]
  },
  {
   "cell_type": "code",
   "execution_count": 67,
   "metadata": {},
   "outputs": [
    {
     "name": "stdout",
     "output_type": "stream",
     "text": [
      "              precision    recall  f1-score   support\n",
      "\n",
      "           0       0.54      0.88      0.67     12754\n",
      "           1       0.83      0.44      0.58     17246\n",
      "\n",
      "    accuracy                           0.63     30000\n",
      "   macro avg       0.68      0.66      0.62     30000\n",
      "weighted avg       0.70      0.63      0.62     30000\n",
      "\n"
     ]
    }
   ],
   "source": [
    "print(metrics.classification_report(Y_test,Y_pred))"
   ]
  },
  {
   "cell_type": "code",
   "execution_count": 68,
   "metadata": {},
   "outputs": [],
   "source": [
    "### 3 SVM Linear Kernel\n",
    "model1 = svm.SVC(kernel='linear')\n",
    "#model1.fit(X_train, Y_train)\n",
    "#Y_pred = model1.predict(X_test)\n",
    "#accuracy_score(Y_test, Y_pred)"
   ]
  },
  {
   "cell_type": "code",
   "execution_count": 69,
   "metadata": {},
   "outputs": [],
   "source": [
    "#print(metrics.classification_report(Y_test,Y_pred))"
   ]
  },
  {
   "cell_type": "code",
   "execution_count": 70,
   "metadata": {},
   "outputs": [],
   "source": [
    "### 4 SVM RBF Kernel\n",
    "model1 = svm.SVC(kernel='rbf')\n",
    "#model1.fit(X_train, Y_train)\n",
    "#Y_pred = model1.predict(X_test)\n",
    "#accuracy_score(Y_test, Y_pred)"
   ]
  },
  {
   "cell_type": "code",
   "execution_count": 71,
   "metadata": {},
   "outputs": [],
   "source": [
    "#print(metrics.classification_report(Y_test,Y_pred))"
   ]
  },
  {
   "cell_type": "code",
   "execution_count": null,
   "metadata": {},
   "outputs": [],
   "source": []
  }
 ],
 "metadata": {
  "kernelspec": {
   "display_name": "Python 3",
   "language": "python",
   "name": "python3"
  },
  "language_info": {
   "codemirror_mode": {
    "name": "ipython",
    "version": 3
   },
   "file_extension": ".py",
   "mimetype": "text/x-python",
   "name": "python",
   "nbconvert_exporter": "python",
   "pygments_lexer": "ipython3",
   "version": "3.7.3"
  },
  "toc": {
   "base_numbering": 1,
   "nav_menu": {},
   "number_sections": false,
   "sideBar": false,
   "skip_h1_title": false,
   "title_cell": "Table of Contents",
   "title_sidebar": "Contents",
   "toc_cell": false,
   "toc_position": {},
   "toc_section_display": false,
   "toc_window_display": false
  }
 },
 "nbformat": 4,
 "nbformat_minor": 2
}
